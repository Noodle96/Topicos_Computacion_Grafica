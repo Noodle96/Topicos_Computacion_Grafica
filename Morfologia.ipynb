{
  "nbformat": 4,
  "nbformat_minor": 0,
  "metadata": {
    "colab": {
      "provenance": [],
      "authorship_tag": "ABX9TyNzdRpxQ8y25EfkMWlFh1Pd",
      "include_colab_link": true
    },
    "kernelspec": {
      "name": "python3",
      "display_name": "Python 3"
    },
    "language_info": {
      "name": "python"
    }
  },
  "cells": [
    {
      "cell_type": "markdown",
      "metadata": {
        "id": "view-in-github",
        "colab_type": "text"
      },
      "source": [
        "<a href=\"https://colab.research.google.com/github/Noodle96/Topicos_Computacion_Grafica/blob/main/Morfologia.ipynb\" target=\"_parent\"><img src=\"https://colab.research.google.com/assets/colab-badge.svg\" alt=\"Open In Colab\"/></a>"
      ]
    },
    {
      "cell_type": "code",
      "source": [
        "from google.colab import drive\n",
        "drive.mount('/content/drive/')"
      ],
      "metadata": {
        "colab": {
          "base_uri": "https://localhost:8080/"
        },
        "id": "JG8f5nBPaKre",
        "outputId": "96222d81-6c4f-4285-c9ea-f901569e936d"
      },
      "execution_count": null,
      "outputs": [
        {
          "output_type": "stream",
          "name": "stdout",
          "text": [
            "Drive already mounted at /content/drive/; to attempt to forcibly remount, call drive.mount(\"/content/drive/\", force_remount=True).\n"
          ]
        }
      ]
    },
    {
      "cell_type": "code",
      "source": [
        "import numpy as np\n",
        "\n",
        "# DEFINICION DE LOS FILTROS\n",
        "#Definicion de kernel cruz\n",
        "kernelCruz = np.array([\n",
        "    [0, 1, 0],\n",
        "    [1, 1, 1],\n",
        "    [0, 1, 0]\n",
        "    ], dtype=np.uint8)\n",
        "\n",
        "# Define the 5x5 diamond-shaped kernel\n",
        "kernel_diamante5 = np.array([\n",
        "    [0, 0, 1, 0, 0],\n",
        "    [0, 1, 1, 1, 0],\n",
        "    [1, 1, 1, 1, 1],\n",
        "    [0, 1, 1, 1, 0],\n",
        "    [0, 0, 1, 0, 0],\n",
        "], dtype=np.uint8)\n",
        "\n",
        "# Definicion the 7x7 diamond-shaped kernel\n",
        "kernel_diamante7 = np.array([\n",
        "    [0, 0, 0, 1, 0, 0, 0],\n",
        "    [0, 0, 1, 1, 1, 0, 0],\n",
        "    [0, 1, 1, 1, 1, 1, 0],\n",
        "    [1, 1, 1, 1, 1, 1, 1],\n",
        "    [0, 1, 1, 1, 1, 1, 0],\n",
        "    [0, 0, 1, 1, 1, 0, 0],\n",
        "    [0, 0, 0, 1, 0, 0, 0],\n",
        "], dtype=np.uint8)\n",
        "\n",
        "#Definicion del kernel vertical\n",
        "kernel_linea_vertical = np.array([\n",
        "        [1],\n",
        "        [1],\n",
        "        [1],\n",
        "        [1],\n",
        "        [1]\n",
        "], dtype=np.uint8)\n",
        "\n",
        "#Definicion del kernel horizontal\n",
        "kernel_linea_horizontal = np.array([\n",
        "    [1, 0, 1]\n",
        "],dtype=np.uint8)\n"
      ],
      "metadata": {
        "id": "RqQ52haXidqq"
      },
      "execution_count": null,
      "outputs": []
    },
    {
      "cell_type": "code",
      "execution_count": null,
      "metadata": {
        "id": "rbnGr7H6Z_CB"
      },
      "outputs": [],
      "source": [
        "import cv2\n",
        "from google.colab.patches import cv2_imshow\n",
        "import numpy as np\n",
        "\n",
        "def mostrar_imagen(imagen):\n",
        "  cv2_imshow(imagen)\n",
        "  cv2.waitKey(0)\n",
        "\n",
        "def convert_to_black_and_white(color_image_path):\n",
        "    # Read the color image\n",
        "    image = cv2.imread(color_image_path)\n",
        "    # Convert to grayscale\n",
        "    gray = cv2.cvtColor(image, cv2.COLOR_BGR2GRAY)\n",
        "    # Apply thresholding to convert to black and white\n",
        "    thresh = cv2.threshold(gray, 127, 255, cv2.THRESH_BINARY)[1]\n",
        "    return thresh\n",
        "\n",
        "def DilatacionCruz(image_path):\n",
        "    black_and_white_image = convert_to_black_and_white(image_path)\n",
        "    dilated_image = np.ones_like(black_and_white_image)\n",
        "    #print(dilated_image)\n",
        "    for row in range(black_and_white_image.shape[0] - kernelCruz.shape[0] + 1):\n",
        "        for col in range(black_and_white_image.shape[1] - kernelCruz.shape[1] + 1):\n",
        "            neighborhood = black_and_white_image[row:row + kernelCruz.shape[0], col:col + kernelCruz.shape[1]]\n",
        "            center_row, center_col = 1, 1 # centro del kernel cruz\n",
        "            if neighborhood[center_row, center_col] == 255 and kernelCruz[center_row, center_col] == 1:\n",
        "                dilated_image[row:row + kernelCruz.shape[0], col:col + kernelCruz.shape[1]] = neighborhood\n",
        "    return dilated_image\n",
        "\n",
        "def DilatacionDiamante5(image_path):\n",
        "    black_and_white_image = convert_to_black_and_white(image_path)\n",
        "    dilated_image = np.ones_like(black_and_white_image)\n",
        "    for row in range(black_and_white_image.shape[0] - kernel_diamante5.shape[0] + 1):\n",
        "        for col in range(black_and_white_image.shape[1] - kernel_diamante5.shape[1] + 1):\n",
        "            neighborhood = black_and_white_image[row:row + kernel_diamante5.shape[0], col:col + kernel_diamante5.shape[1]]\n",
        "            center_row, center_col = 2, 2  # center of a 5x5 kernel\n",
        "            if neighborhood[center_row, center_col] == 255 and kernel_diamante5[center_row, center_col] == 1:\n",
        "                dilated_image[row:row + kernel_diamante5.shape[0], col:col + kernel_diamante5.shape[1]] = neighborhood\n",
        "    return dilated_image\n",
        "\n",
        "def DilatacionDiamante7(image_path):\n",
        "    black_and_white_image = convert_to_black_and_white(image_path)\n",
        "    # Initialize the dilated image\n",
        "    dilated_image = np.ones_like(black_and_white_image)\n",
        "\n",
        "    for row in range(black_and_white_image.shape[0] - kernel_diamante7.shape[0] + 1):\n",
        "        for col in range(black_and_white_image.shape[1] - kernel_diamante7.shape[1] + 1):\n",
        "            neighborhood = black_and_white_image[row:row + kernel_diamante7.shape[0], col:col + kernel_diamante7.shape[1]]\n",
        "            center_row, center_col = 3, 3  # center of a 7x7 kernel\n",
        "            if neighborhood[center_row, center_col] == 255 and kernel_diamante7[center_row, center_col] == 1:\n",
        "                # If a match is found, copy the entire neighborhood to dilated_image\n",
        "                dilated_image[row:row + kernel_diamante7.shape[0], col:col + kernel_diamante7.shape[1]] = neighborhood\n",
        "\n",
        "    return dilated_image\n",
        "\n",
        "def DilatacionLineaVertical(image_path):\n",
        "    black_and_white_image = convert_to_black_and_white(image_path)\n",
        "    dilated_image = np.ones_like(black_and_white_image)\n",
        "    for row in range(black_and_white_image.shape[0] - kernel_linea_vertical.shape[0] + 1):\n",
        "        for col in range(black_and_white_image.shape[1]):  # Iterate through all columns\n",
        "            neighborhood = black_and_white_image[row:row + kernel_linea_vertical.shape[0], col:col + 1]\n",
        "\n",
        "            center_row = 2  # center of a 5x1 kernel\n",
        "            if neighborhood[center_row, 0] == 255:  # Check only the center element (index 0)\n",
        "                dilated_image[row:row + kernel_linea_vertical.shape[0], col] = 255\n",
        "    return dilated_image\n",
        "\n",
        "def DilatacionLineaHorizontal(image_path):\n",
        "    black_and_white_image = convert_to_black_and_white(image_path)\n",
        "    dilated_image = np.ones_like(black_and_white_image)\n",
        "    for row in range(black_and_white_image.shape[0] - kernel_linea_horizontal.shape[0] + 1):\n",
        "        for col in range(black_and_white_image.shape[1] - kernel_linea_horizontal.shape[1] +1 ):\n",
        "            neighborhood = black_and_white_image[row:row + kernel_linea_horizontal.shape[0], col:col + kernel_linea_horizontal.shape[1]]\n",
        "            center_col = kernel_linea_horizontal.shape[1] // 2  # Calculate center column based on kernel width\n",
        "            if neighborhood[0, 1] == 255:  # Check the center element\n",
        "                dilated_image[row:row + kernel_linea_horizontal.shape[0], col] = 255\n",
        "    return dilated_image\n",
        "\n",
        "def ErosionCruz(image_path):\n",
        "    black_and_white_image = convert_to_black_and_white(image_path)\n",
        "    erosion_image = np.ones_like(black_and_white_image)\n",
        "    for row in range(black_and_white_image.shape[0] - kernelCruz.shape[0] + 1):\n",
        "        for col in range(black_and_white_image.shape[1] - kernelCruz.shape[1] + 1):\n",
        "            neighborhood = black_and_white_image[row:row + kernelCruz.shape[0], col:col + kernelCruz.shape[1]]\n",
        "            neighborhood_only_index = np.zeros_like(neighborhood)\n",
        "            center_row, center_col = 1, 1\n",
        "            neighborhood_only_index[center_row][center_col] = 255\n",
        "            bandera = True\n",
        "            for e in range(neighborhood.shape[0]):\n",
        "                for j in range(neighborhood.shape[1]):\n",
        "                    if(kernelCruz[e][j] == 1):\n",
        "                        if(neighborhood[e][j] != 255):\n",
        "                            bandera = False\n",
        "                            break\n",
        "            if(bandera):\n",
        "                erosion_image[row:row + kernelCruz.shape[0], col:col + kernelCruz.shape[1]] = neighborhood_only_index\n",
        "    return erosion_image\n",
        "\n",
        "def ErosionDiamante5(image_path):\n",
        "    black_and_white_image = convert_to_black_and_white(image_path)\n",
        "    erosion_image = np.ones_like(black_and_white_image)\n",
        "    for row in range(black_and_white_image.shape[0] - kernel_diamante5.shape[0] + 1):\n",
        "        for col in range(black_and_white_image.shape[1] - kernel_diamante5.shape[1] + 1):\n",
        "            neighborhood = black_and_white_image[row:row + kernel_diamante5.shape[0], col:col + kernel_diamante5.shape[1]]\n",
        "            neighborhood_only_index = np.zeros_like(neighborhood)\n",
        "            center_row, center_col = 2, 2\n",
        "            neighborhood_only_index[center_row][center_col] = 255\n",
        "            bandera = True\n",
        "            secondBandera = True\n",
        "            for e in range(neighborhood.shape[0]):\n",
        "                if(secondBandera):\n",
        "                    for j in range(neighborhood.shape[1]):\n",
        "                        if(kernel_diamante5[e][j] == 1):\n",
        "                            if(neighborhood[e][j] != 255):\n",
        "                                bandera = False\n",
        "                                seconBandera = False\n",
        "                                break\n",
        "                else:\n",
        "                    break\n",
        "            if(bandera):\n",
        "                erosion_image[row:row + kernel_diamante5.shape[0], col:col + kernel_diamante5.shape[1]] = neighborhood_only_index\n",
        "    return erosion_image\n",
        "\n",
        "def ErosionDiamante7(image_path):\n",
        "    black_and_white_image = convert_to_black_and_white(image_path)\n",
        "    erosion_image = np.ones_like(black_and_white_image)\n",
        "    for row in range(black_and_white_image.shape[0] - kernel_diamante7.shape[0] + 1):\n",
        "        for col in range(black_and_white_image.shape[1] - kernel_diamante7.shape[1] + 1):\n",
        "            neighborhood = black_and_white_image[row:row + kernel_diamante7.shape[0], col:col + kernel_diamante7.shape[1]]\n",
        "            neighborhood_only_index = np.zeros_like(neighborhood)\n",
        "            center_row, center_col = 3, 3\n",
        "            neighborhood_only_index[center_row][center_col] = 255\n",
        "            bandera = True\n",
        "            secondBandera = True\n",
        "            for e in range(neighborhood.shape[0]):\n",
        "                if(secondBandera):\n",
        "                    for j in range(neighborhood.shape[1]):\n",
        "                        if(kernel_diamante7[e][j] == 1):\n",
        "                            if(neighborhood[e][j] != 255):\n",
        "                                bandera = False\n",
        "                                seconBandera = False\n",
        "                                break\n",
        "                else:\n",
        "                    break\n",
        "            if(bandera):\n",
        "                erosion_image[row:row + kernel_diamante7.shape[0], col:col + kernel_diamante7.shape[1]] = neighborhood_only_index\n",
        "    return erosion_image\n",
        "\n",
        "def ErosionLineaVertical(image_path):\n",
        "    black_and_white_image = convert_to_black_and_white(image_path)\n",
        "    erosion_image = np.ones_like(black_and_white_image)\n",
        "    for row in range(black_and_white_image.shape[0] - kernel_linea_vertical.shape[0] + 1):\n",
        "        for col in range(black_and_white_image.shape[1] - kernel_linea_vertical.shape[1] + 1):\n",
        "            neighborhood = black_and_white_image[row:row + kernel_linea_vertical.shape[0], col:col + kernel_linea_vertical.shape[1]]\n",
        "            neighborhood_only_index = np.zeros_like(neighborhood)\n",
        "            center_row, center_col = 2, 0\n",
        "            neighborhood_only_index[center_row][center_col] = 255\n",
        "            bandera = True\n",
        "            secondBandera = True\n",
        "            for e in range(neighborhood.shape[0]):\n",
        "                if(secondBandera):\n",
        "                    for j in range(neighborhood.shape[1]):\n",
        "                        if(kernel_diamante7[e][j] == 1):\n",
        "                            if(neighborhood[e][j] != 255):\n",
        "                                bandera = False\n",
        "                                seconBandera = False\n",
        "                                break\n",
        "                else:\n",
        "                    break\n",
        "            if(bandera):\n",
        "                erosion_image[row:row + kernel_linea_vertical.shape[0], col:col + kernel_linea_vertical.shape[1]] = neighborhood_only_index\n",
        "    return erosion_image\n",
        "\n",
        "def ErosionLineaHorizontal(image_path):\n",
        "    black_and_white_image = convert_to_black_and_white(image_path)\n",
        "    erosion_image = np.ones_like(black_and_white_image)\n",
        "    for row in range(black_and_white_image.shape[0] - kernel_linea_horizontal.shape[0] + 1):\n",
        "        for col in range(black_and_white_image.shape[1] - kernel_linea_horizontal.shape[1] + 1):\n",
        "            neighborhood = black_and_white_image[row:row + kernel_linea_horizontal.shape[0], col:col + kernel_linea_horizontal.shape[1]]\n",
        "            neighborhood_only_index = np.zeros_like(neighborhood)\n",
        "            center_row, center_col = 0, 1\n",
        "            neighborhood_only_index[center_row][center_col] = 255\n",
        "            bandera = True\n",
        "            secondBandera = True\n",
        "            for e in range(neighborhood.shape[0]):\n",
        "                if(secondBandera):\n",
        "                    for j in range(neighborhood.shape[1]):\n",
        "                        if(kernel_diamante7[e][j] == 1):\n",
        "                            if(neighborhood[e][j] != 255):\n",
        "                                bandera = False\n",
        "                                seconBandera = False\n",
        "                                break\n",
        "                else:\n",
        "                    break\n",
        "            if(bandera):\n",
        "                erosion_image[row:row + kernel_linea_horizontal.shape[0], col:col + kernel_linea_horizontal.shape[1]] = neighborhood_only_index\n",
        "    return erosion_image\n",
        "\n",
        "# Las funciones test son solo pruebas\n",
        "def test(image_path):\n",
        "    kernelCruz = np.array([\n",
        "    [0, 1, 0],\n",
        "    [1, 1, 1],\n",
        "    [0, 1, 0]\n",
        "    ], dtype=np.uint8)\n",
        "    #black_and_white_image = convert_to_black_and_white(image_path)\n",
        "    # Initialize the dilated image\n",
        "    print(\"test -B\")\n",
        "\n",
        "    #black_and_white_image = np.random.randint(1, 100, size=(5, 5))\n",
        "    black_and_white_image = np.random.choice([0, 255], size=(5, 5))\n",
        "    dilated_image = np.zeros_like(black_and_white_image)\n",
        "    print(black_and_white_image)\n",
        "    # Iterate over all valid image pixels (without padding)\n",
        "    for row in range(black_and_white_image.shape[0] - kernelCruz.shape[0] + 1):\n",
        "        for col in range(black_and_white_image.shape[1] - kernelCruz.shape[1] + 1):\n",
        "            # Extract the neighborhood around the current pixel\n",
        "            neighborhood = black_and_white_image[row:row + kernelCruz.shape[0], col:col + kernelCruz.shape[1]]\n",
        "            print(\"print neighborhood\")\n",
        "            print(neighborhood)\n",
        "            # Check if the center element of the neighborhood and the center of the kernel are both foreground (255)\n",
        "            center_row, center_col = 1, 1  # Assuming center of a 7x7 kernel\n",
        "            if neighborhood[center_row, center_col] == 255 and kernelCruz[center_row, center_col] == 1:\n",
        "                # If a match is found, copy the entire neighborhood to dilated_image\n",
        "                dilated_image[row:row + kernelCruz.shape[0], col:col + kernelCruz.shape[1]] = neighborhood\n",
        "                print(\"dilated_image\")\n",
        "                print(dilated_image)\n",
        "\n",
        "    return dilated_image\n",
        "\n",
        "def InvertedTest(image_path):\n",
        "    kernelCruz = np.array([\n",
        "    [0, 1, 0],\n",
        "    [1, 1, 1],\n",
        "    [0, 1, 0]\n",
        "    ], dtype=np.uint8)\n",
        "    black_and_white_image = convert_to_black_and_white(image_path)\n",
        "    dilated_image = np.zeros_like(black_and_white_image)\n",
        "    for row in range(black_and_white_image.shape[0] - kernelCruz.shape[0] + 1):\n",
        "        for col in range(black_and_white_image.shape[1] - kernelCruz.shape[1] + 1):\n",
        "            dilated_image[row,col] = 255 - black_and_white_image[row,col]\n",
        "    return dilated_image\n",
        "\n",
        "def isEqualImage(image1, image2):\n",
        "    isEqual = True\n",
        "    for e in range(image1.shape[0]):\n",
        "        for j in range(image1.shape[1]):\n",
        "            if(image1[e][j] != image2[e][j]):\n",
        "                isEqual = False\n",
        "    return isEqual"
      ]
    },
    {
      "cell_type": "code",
      "source": [
        "image_path = \"/content/drive/MyDrive/images/4.png\"\n",
        "image = cv2.imread(image_path)\n",
        "#print(\"type image\")\n",
        "#print(type(image)) #<class 'numpy.ndarray'>\n",
        "mostrar_imagen(image)"
      ],
      "metadata": {
        "colab": {
          "base_uri": "https://localhost:8080/",
          "height": 242
        },
        "id": "zoCD55nPbHj6",
        "outputId": "66a55332-8020-481e-863d-a4bf3282a524"
      },
      "execution_count": null,
      "outputs": [
        {
          "output_type": "display_data",
          "data": {
            "text/plain": [
              "<PIL.Image.Image image mode=RGB size=225x225>"
            ],
            "image/png": "[encoded data removed]"
          },
          "metadata": {}
        }
      ]
    },
    {
      "cell_type": "code",
      "source": [
        "# DILTACION PARA EL ELEMENTO ESTRUCTURANTE CRUZ 3X3\n",
        "imagenDilatadaCruz = DilatacionCruz(image_path)\n",
        "mostrar_imagen(imagenDilatadaCruz)"
      ],
      "metadata": {
        "colab": {
          "base_uri": "https://localhost:8080/",
          "height": 242
        },
        "id": "-e68GEvA01Zl",
        "outputId": "1e7c30c2-98cf-4b23-97b1-b2f54bbdf3dc"
      },
      "execution_count": null,
      "outputs": [
        {
          "output_type": "display_data",
          "data": {
            "text/plain": [
              "<PIL.Image.Image image mode=L size=225x225>"
            ],
            "image/png": "[encoded data removed]"
          },
          "metadata": {}
        }
      ]
    },
    {
      "cell_type": "code",
      "source": [
        "# DILTACION PARA EL ELEMENTO ESTRUCTURANTE DIAMANTE 5X5\n",
        "imagenDilatadaDiamante5 = DilatacionDiamante5(image_path)\n",
        "mostrar_imagen(imagenDilatadaDiamante5)"
      ],
      "metadata": {
        "colab": {
          "base_uri": "https://localhost:8080/",
          "height": 242
        },
        "id": "wZSpsziQ3Gaq",
        "outputId": "a9387772-fba6-43e5-ccc7-20b107e9aff8"
      },
      "execution_count": null,
      "outputs": [
        {
          "output_type": "display_data",
          "data": {
            "text/plain": [
              "<PIL.Image.Image image mode=L size=225x225>"
            ],
            "image/png": "[encoded data removed]"
          },
          "metadata": {}
        }
      ]
    },
    {
      "cell_type": "code",
      "source": [
        "# DILTACION PARA EL ELEMENTO ESTRUCTURANTE DIAMANTE 7X7\n",
        "imagenDilatadaDiamante7x7 = DilatacionDiamante7(image_path)\n",
        "mostrar_imagen(imagenDilatadaDiamante7x7)\n"
      ],
      "metadata": {
        "colab": {
          "base_uri": "https://localhost:8080/",
          "height": 242
        },
        "id": "n6TwQv2p2AyQ",
        "outputId": "652cb384-ca63-4a76-cb8e-a042f758f7dc"
      },
      "execution_count": null,
      "outputs": [
        {
          "output_type": "display_data",
          "data": {
            "text/plain": [
              "<PIL.Image.Image image mode=L size=225x225>"
            ],
            "image/png": "[encoded data removed]"
          },
          "metadata": {}
        }
      ]
    },
    {
      "cell_type": "code",
      "source": [
        "# DILTACION PARA EL ELEMENTO ESTRUCTURANTE DIAMANTE LINEA VERTICAL\n",
        "imagenDilatadaVerticalLine = DilatacionLineaVertical(image_path)\n",
        "mostrar_imagen(imagenDilatadaVerticalLine)"
      ],
      "metadata": {
        "id": "Aj4S_V3h_IPx",
        "colab": {
          "base_uri": "https://localhost:8080/",
          "height": 242
        },
        "outputId": "c5e4337c-be50-40c0-c315-14c000e362b9"
      },
      "execution_count": null,
      "outputs": [
        {
          "output_type": "display_data",
          "data": {
            "text/plain": [
              "<PIL.Image.Image image mode=L size=225x225>"
            ],
            "image/png": "[encoded data removed]"
          },
          "metadata": {}
        }
      ]
    },
    {
      "cell_type": "code",
      "source": [
        "# DILTACION PARA EL ELEMENTO ESTRUCTURANTE LINEA HORIZONTAL\n",
        "ImagenDilatadaLineaHorizontal = DilatacionLineaHorizontal(image_path)\n",
        "mostrar_imagen(ImagenDilatadaLineaHorizontal)\n"
      ],
      "metadata": {
        "colab": {
          "base_uri": "https://localhost:8080/",
          "height": 242
        },
        "id": "j_xHTqI8YXAK",
        "outputId": "57c19c50-b662-4c00-fe53-bdeeb4c99ca9"
      },
      "execution_count": null,
      "outputs": [
        {
          "output_type": "display_data",
          "data": {
            "text/plain": [
              "<PIL.Image.Image image mode=L size=225x225>"
            ],
            "image/png": "[encoded data removed]"
          },
          "metadata": {}
        }
      ]
    },
    {
      "cell_type": "code",
      "source": [
        "# EROSION PARA EL ELEMENTO ESTRUCTURANTE CRUZ 3X3\n",
        "ImageErosionCruz = ErosionCruz(image_path)\n",
        "mostrar_imagen(ImageErosionCruz)"
      ],
      "metadata": {
        "colab": {
          "base_uri": "https://localhost:8080/",
          "height": 242
        },
        "id": "CSAE9ef0wbBr",
        "outputId": "0bf0d876-0784-4b04-dca3-56ffa0fd4959"
      },
      "execution_count": null,
      "outputs": [
        {
          "output_type": "display_data",
          "data": {
            "text/plain": [
              "<PIL.Image.Image image mode=L size=225x225>"
            ],
            "image/png": "[encoded data removed]"
          },
          "metadata": {}
        }
      ]
    },
    {
      "cell_type": "code",
      "source": [
        "# EROSION PARA EL ELEMENTO ESTRUCTURANTE DIAMANTE 5X5\n",
        "ImageErosionDiamante5 = ErosionDiamante5(image_path)\n",
        "mostrar_imagen(ImageErosionDiamante5)"
      ],
      "metadata": {
        "colab": {
          "base_uri": "https://localhost:8080/",
          "height": 242
        },
        "id": "fVMm3xZJ2ahE",
        "outputId": "02412224-fb90-47f1-8aa9-e0915fe73846"
      },
      "execution_count": null,
      "outputs": [
        {
          "output_type": "display_data",
          "data": {
            "text/plain": [
              "<PIL.Image.Image image mode=L size=225x225>"
            ],
            "image/png": "[encoded data removed]"
          },
          "metadata": {}
        }
      ]
    },
    {
      "cell_type": "code",
      "source": [
        "# EROSION PARA EL ELEMENTO ESTRUCTURANTE DIAMANTE 7X7\n",
        "ImageErosionDiamante7 = ErosionDiamante7(image_path)\n",
        "mostrar_imagen(ImageErosionDiamante7)"
      ],
      "metadata": {
        "colab": {
          "base_uri": "https://localhost:8080/",
          "height": 242
        },
        "id": "66AkUWpP3GG7",
        "outputId": "fc1823a8-7630-4335-9c53-f03acc19cf46"
      },
      "execution_count": null,
      "outputs": [
        {
          "output_type": "display_data",
          "data": {
            "text/plain": [
              "<PIL.Image.Image image mode=L size=225x225>"
            ],
            "image/png": "[encoded data removed]"
          },
          "metadata": {}
        }
      ]
    },
    {
      "cell_type": "code",
      "source": [
        "# EROSION PARA EL ELEMENTO ESTRUCTURANTE LINEA VERTICAL\n",
        "erosionLineaVertical = ErosionLineaVertical(image_path)\n",
        "mostrar_imagen(erosionLineaVertical)"
      ],
      "metadata": {
        "colab": {
          "base_uri": "https://localhost:8080/",
          "height": 242
        },
        "id": "cfePAxJK3p-l",
        "outputId": "d5144655-c749-472a-8fa5-a6a5b83967d6"
      },
      "execution_count": null,
      "outputs": [
        {
          "output_type": "display_data",
          "data": {
            "text/plain": [
              "<PIL.Image.Image image mode=L size=225x225>"
            ],
            "image/png": "[encoded data removed]"
          },
          "metadata": {}
        }
      ]
    },
    {
      "cell_type": "code",
      "source": [
        "# EROSION PARA EL ELEMENTO ESTRUCTURANTE LINEA HORIZONTAL\n",
        "erosionLineaHorizontal = ErosionLineaHorizontal(image_path)\n",
        "mostrar_imagen(erosionLineaHorizontal)"
      ],
      "metadata": {
        "colab": {
          "base_uri": "https://localhost:8080/",
          "height": 242
        },
        "id": "QXSRLi8D4TX1",
        "outputId": "89a918a4-3fcf-422a-b854-9ede5d742dce"
      },
      "execution_count": null,
      "outputs": [
        {
          "output_type": "display_data",
          "data": {
            "text/plain": [
              "<PIL.Image.Image image mode=L size=225x225>"
            ],
            "image/png": "[encoded data removed]"
          },
          "metadata": {}
        }
      ]
    }
  ]
}